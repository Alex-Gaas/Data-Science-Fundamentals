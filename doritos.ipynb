{
 "cells": [
  {
   "cell_type": "code",
   "execution_count": 1,
   "metadata": {},
   "outputs": [],
   "source": [
    "#Define nutritional values\n",
    "calories = 8.60\n",
    "fat = 0.42\n",
    "carbs = 1.08\n",
    "sugar = 0.01"
   ]
  },
  {
   "cell_type": "code",
   "execution_count": 2,
   "metadata": {},
   "outputs": [],
   "source": [
    "#Amount of Doritos chips the user had\n",
    "amount_of_chips = input(\"How many Dortios chips did you eat? \")"
   ]
  },
  {
   "cell_type": "code",
   "execution_count": 3,
   "metadata": {},
   "outputs": [
    {
     "name": "stdout",
     "output_type": "stream",
     "text": [
      "You had 15 Doritos chips\n"
     ]
    }
   ],
   "source": [
    "#Feedback to user\n",
    "print(\"You had \" + amount_of_chips + \" Doritos chips\")"
   ]
  },
  {
   "cell_type": "code",
   "execution_count": 5,
   "metadata": {},
   "outputs": [],
   "source": [
    "amount_of_chips = float(amount_of_chips)\n",
    "user_calories = calories * amount_of_chips\n",
    "user_fat = fat * amount_of_chips\n",
    "user_carbs = carbs * amount_of_chips\n",
    "user_sugar = sugar * amount_of_chips"
   ]
  },
  {
   "cell_type": "code",
   "execution_count": 9,
   "metadata": {},
   "outputs": [
    {
     "name": "stdout",
     "output_type": "stream",
     "text": [
      "The nutritional values for your 15.0 Doritos chips is:\n",
      "Calories: 129.0 Kcal\n",
      "Fat: 6.3 grams\n",
      "Carbs: 16.200000000000003 grams\n",
      "Sugar: 0.15 grams\n"
     ]
    }
   ],
   "source": [
    "print(\"The nutritional values for your \" + str(amount_of_chips) + \" Doritos chips is:\")\n",
    "print(\"Calories: \" + str(user_calories) + \" Kcal\")\n",
    "print(\"Fat: \" + str(user_fat) + \" grams\")\n",
    "print(\"Carbs: \" + str(user_carbs) + \" grams\")\n",
    "print(\"Sugar: \" + str(user_sugar) + \" grams\")"
   ]
  }
 ],
 "metadata": {
  "kernelspec": {
   "display_name": "Python 3",
   "language": "python",
   "name": "python3"
  },
  "language_info": {
   "codemirror_mode": {
    "name": "ipython",
    "version": 3
   },
   "file_extension": ".py",
   "mimetype": "text/x-python",
   "name": "python",
   "nbconvert_exporter": "python",
   "pygments_lexer": "ipython3",
   "version": "3.6.5"
  }
 },
 "nbformat": 4,
 "nbformat_minor": 2
}
